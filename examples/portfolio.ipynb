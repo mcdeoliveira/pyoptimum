{
 "cells": [
  {
   "cell_type": "markdown",
   "metadata": {},
   "source": [
    "# Portfolio Optimization Spreadsheet"
   ]
  },
  {
   "cell_type": "markdown",
   "metadata": {},
   "source": [
    "## Setup environment"
   ]
  },
  {
   "cell_type": "code",
   "execution_count": 240,
   "metadata": {
    "collapsed": true
   },
   "outputs": [],
   "source": [
    "import base64\n",
    "import math\n",
    "import numpy as np\n",
    "import requests\n",
    "import matplotlib.pyplot as plt\n",
    "import pandas as pd"
   ]
  },
  {
   "cell_type": "markdown",
   "metadata": {},
   "source": [
    "## Initialize api"
   ]
  },
  {
   "cell_type": "code",
   "execution_count": 241,
   "metadata": {},
   "outputs": [
    {
     "name": "stdout",
     "output_type": "stream",
     "text": [
      "> Got authentication token\n",
      "  token = eyJhbGciOiJIUzUxMiIsImlhdCI6MTU2ODgzMzYwMiwiZXhwIjoxNTY4ODM0MjAyfQ.eyJpZCI6Mn0.Z4OQ22xYfsGKs_nNrZUOkGiTjH8PsHeTOLugEoL-9uSoFoKZkYDPZ_f7lOPY-fgQwwCIlTSSuGABDtC0oAfi1Q\n",
      "> Token expires in 10.0 minutes. Rerun this cell to renew token.\n"
     ]
    }
   ],
   "source": [
    "base_url = 'https://optimize.vicbee.net/api/'\n",
    "#base_url = 'http://localhost/api/'\n",
    "        \n",
    "# get token\n",
    "username = 'demo@optimize.vicbee.net'\n",
    "password = 'optimize'\n",
    "headers = {\n",
    "    'Content-type': 'application/json',\n",
    "    'Accept': 'application/json',\n",
    "    'Authorization': 'Basic ' + base64.b64encode(bytes('{}:{}'.format(username, password), 'utf-8')).decode('utf-8')\n",
    "}\n",
    "\n",
    "resp = requests.get(base_url + 'get_token', headers=headers)\n",
    "\n",
    "if resp.ok:\n",
    "\n",
    "    token = resp.json().get('token')\n",
    "    duration = resp.json().get('duration')\n",
    "    print('> Got authentication token')\n",
    "    print('  token = {}'.format(token))\n",
    "    print('> Token expires in {} minutes. Rerun this cell to renew token.'.format(duration/60))\n",
    "\n",
    "else:\n",
    "\n",
    "    resp.raise_for_status()\n",
    "\n",
    "headers = {\n",
    "    'Content-type': 'application/json',\n",
    "    'Accept': 'application/json',\n",
    "    'X-Api-Key': token\n",
    "}"
   ]
  },
  {
   "cell_type": "markdown",
   "metadata": {},
   "source": [
    "# Portfolio Optimization"
   ]
  },
  {
   "cell_type": "markdown",
   "metadata": {},
   "source": [
    "## Setup data using pandas dataframe"
   ]
  },
  {
   "cell_type": "code",
   "execution_count": 252,
   "metadata": {},
   "outputs": [
    {
     "data": {
      "text/html": [
       "<div>\n",
       "<style>\n",
       "    .dataframe thead tr:only-child th {\n",
       "        text-align: right;\n",
       "    }\n",
       "\n",
       "    .dataframe thead th {\n",
       "        text-align: left;\n",
       "    }\n",
       "\n",
       "    .dataframe tbody tr th {\n",
       "        vertical-align: top;\n",
       "    }\n",
       "</style>\n",
       "<table border=\"1\" class=\"dataframe\">\n",
       "  <thead>\n",
       "    <tr style=\"text-align: right;\">\n",
       "      <th></th>\n",
       "      <th>Label</th>\n",
       "      <th>Return (%)</th>\n",
       "      <th>STD (%)</th>\n",
       "      <th>Position</th>\n",
       "      <th>Lower</th>\n",
       "      <th>Upper</th>\n",
       "    </tr>\n",
       "  </thead>\n",
       "  <tbody>\n",
       "    <tr>\n",
       "      <th>0</th>\n",
       "      <td>S &amp; P</td>\n",
       "      <td>14.0</td>\n",
       "      <td>18.5</td>\n",
       "      <td>0.285714</td>\n",
       "      <td>0.300000</td>\n",
       "      <td>inf</td>\n",
       "    </tr>\n",
       "    <tr>\n",
       "      <th>1</th>\n",
       "      <td>Bonds</td>\n",
       "      <td>6.5</td>\n",
       "      <td>5.0</td>\n",
       "      <td>0.035714</td>\n",
       "      <td>0.100000</td>\n",
       "      <td>inf</td>\n",
       "    </tr>\n",
       "    <tr>\n",
       "      <th>2</th>\n",
       "      <td>Canadian</td>\n",
       "      <td>11.0</td>\n",
       "      <td>16.0</td>\n",
       "      <td>0.107143</td>\n",
       "      <td>-inf</td>\n",
       "      <td>inf</td>\n",
       "    </tr>\n",
       "    <tr>\n",
       "      <th>3</th>\n",
       "      <td>Japan</td>\n",
       "      <td>14.0</td>\n",
       "      <td>23.0</td>\n",
       "      <td>0.035714</td>\n",
       "      <td>-inf</td>\n",
       "      <td>inf</td>\n",
       "    </tr>\n",
       "    <tr>\n",
       "      <th>4</th>\n",
       "      <td>Emerging Markets</td>\n",
       "      <td>16.0</td>\n",
       "      <td>30.0</td>\n",
       "      <td>0.178571</td>\n",
       "      <td>-inf</td>\n",
       "      <td>inf</td>\n",
       "    </tr>\n",
       "    <tr>\n",
       "      <th>5</th>\n",
       "      <td>Pacific</td>\n",
       "      <td>18.0</td>\n",
       "      <td>26.0</td>\n",
       "      <td>0.178571</td>\n",
       "      <td>-inf</td>\n",
       "      <td>inf</td>\n",
       "    </tr>\n",
       "    <tr>\n",
       "      <th>6</th>\n",
       "      <td>Europe</td>\n",
       "      <td>12.0</td>\n",
       "      <td>20.0</td>\n",
       "      <td>0.142857</td>\n",
       "      <td>-inf</td>\n",
       "      <td>inf</td>\n",
       "    </tr>\n",
       "    <tr>\n",
       "      <th>7</th>\n",
       "      <td>Small Stocks</td>\n",
       "      <td>17.0</td>\n",
       "      <td>24.0</td>\n",
       "      <td>0.035714</td>\n",
       "      <td>-inf</td>\n",
       "      <td>inf</td>\n",
       "    </tr>\n",
       "  </tbody>\n",
       "</table>\n",
       "</div>"
      ],
      "text/plain": [
       "              Label  Return (%)  STD (%)  Position     Lower  Upper\n",
       "0             S & P        14.0     18.5  0.285714  0.300000    inf\n",
       "1             Bonds         6.5      5.0  0.035714  0.100000    inf\n",
       "2          Canadian        11.0     16.0  0.107143      -inf    inf\n",
       "3             Japan        14.0     23.0  0.035714      -inf    inf\n",
       "4  Emerging Markets        16.0     30.0  0.178571      -inf    inf\n",
       "5           Pacific        18.0     26.0  0.178571      -inf    inf\n",
       "6            Europe        12.0     20.0  0.142857      -inf    inf\n",
       "7      Small Stocks        17.0     24.0  0.035714      -inf    inf"
      ]
     },
     "execution_count": 252,
     "metadata": {},
     "output_type": "execute_result"
    }
   ],
   "source": [
    "data = [\n",
    "    ['S & P',14.0,18.5,0.8,.3,np.inf],\n",
    "    ['Bonds',6.5,5.0,0.1,.1,np.inf],\n",
    "    ['Canadian',11.0,16.0,0.3,-np.inf,np.inf],\n",
    "    ['Japan',14.0,23.0,0.1,-np.inf,np.inf],\n",
    "    ['Emerging Markets',16.0,30.0,0.5,-np.inf,np.inf],\n",
    "    ['Pacific',18.0,26.0,0.5,-np.inf,np.inf],\n",
    "    ['Europe',12.0,20.0,0.4,-np.inf,np.inf],\n",
    "    ['Small Stocks',17.0,24.0,0.1,-np.inf,np.inf] \n",
    "]\n",
    "assets = pd.DataFrame(data, columns=['Label', 'Return (%)', 'STD (%)', 'Position', 'Lower', 'Upper'])\n",
    "assets.Position = assets.Position / assets.Position.sum()\n",
    "assets"
   ]
  },
  {
   "cell_type": "code",
   "execution_count": 253,
   "metadata": {},
   "outputs": [
    {
     "data": {
      "text/html": [
       "<div>\n",
       "<style>\n",
       "    .dataframe thead tr:only-child th {\n",
       "        text-align: right;\n",
       "    }\n",
       "\n",
       "    .dataframe thead th {\n",
       "        text-align: left;\n",
       "    }\n",
       "\n",
       "    .dataframe tbody tr th {\n",
       "        vertical-align: top;\n",
       "    }\n",
       "</style>\n",
       "<table border=\"1\" class=\"dataframe\">\n",
       "  <thead>\n",
       "    <tr style=\"text-align: right;\">\n",
       "      <th></th>\n",
       "      <th>S &amp; P</th>\n",
       "      <th>Bonds</th>\n",
       "      <th>Canadian</th>\n",
       "      <th>Japan</th>\n",
       "      <th>Emerging Markets</th>\n",
       "      <th>Pacific</th>\n",
       "      <th>Europe</th>\n",
       "      <th>Small Stocks</th>\n",
       "    </tr>\n",
       "  </thead>\n",
       "  <tbody>\n",
       "    <tr>\n",
       "      <th>S &amp; P</th>\n",
       "      <td>1.00</td>\n",
       "      <td>0.45</td>\n",
       "      <td>0.70</td>\n",
       "      <td>0.20</td>\n",
       "      <td>0.64</td>\n",
       "      <td>0.30</td>\n",
       "      <td>0.61</td>\n",
       "      <td>0.79</td>\n",
       "    </tr>\n",
       "    <tr>\n",
       "      <th>Bonds</th>\n",
       "      <td>0.45</td>\n",
       "      <td>1.00</td>\n",
       "      <td>0.27</td>\n",
       "      <td>-0.01</td>\n",
       "      <td>0.41</td>\n",
       "      <td>0.01</td>\n",
       "      <td>0.13</td>\n",
       "      <td>0.28</td>\n",
       "    </tr>\n",
       "    <tr>\n",
       "      <th>Canadian</th>\n",
       "      <td>0.70</td>\n",
       "      <td>0.27</td>\n",
       "      <td>1.00</td>\n",
       "      <td>0.14</td>\n",
       "      <td>0.51</td>\n",
       "      <td>0.29</td>\n",
       "      <td>0.48</td>\n",
       "      <td>0.59</td>\n",
       "    </tr>\n",
       "    <tr>\n",
       "      <th>Japan</th>\n",
       "      <td>0.20</td>\n",
       "      <td>-0.01</td>\n",
       "      <td>0.14</td>\n",
       "      <td>1.00</td>\n",
       "      <td>0.25</td>\n",
       "      <td>0.73</td>\n",
       "      <td>0.56</td>\n",
       "      <td>0.13</td>\n",
       "    </tr>\n",
       "    <tr>\n",
       "      <th>Emerging Markets</th>\n",
       "      <td>0.64</td>\n",
       "      <td>0.41</td>\n",
       "      <td>0.51</td>\n",
       "      <td>0.25</td>\n",
       "      <td>1.00</td>\n",
       "      <td>0.28</td>\n",
       "      <td>0.61</td>\n",
       "      <td>0.75</td>\n",
       "    </tr>\n",
       "    <tr>\n",
       "      <th>Pacific</th>\n",
       "      <td>0.30</td>\n",
       "      <td>0.01</td>\n",
       "      <td>0.29</td>\n",
       "      <td>0.73</td>\n",
       "      <td>0.28</td>\n",
       "      <td>1.00</td>\n",
       "      <td>0.54</td>\n",
       "      <td>0.16</td>\n",
       "    </tr>\n",
       "    <tr>\n",
       "      <th>Europe</th>\n",
       "      <td>0.61</td>\n",
       "      <td>0.13</td>\n",
       "      <td>0.48</td>\n",
       "      <td>0.56</td>\n",
       "      <td>0.61</td>\n",
       "      <td>0.54</td>\n",
       "      <td>1.00</td>\n",
       "      <td>0.44</td>\n",
       "    </tr>\n",
       "    <tr>\n",
       "      <th>Small Stocks</th>\n",
       "      <td>0.79</td>\n",
       "      <td>0.28</td>\n",
       "      <td>0.59</td>\n",
       "      <td>0.13</td>\n",
       "      <td>0.75</td>\n",
       "      <td>0.16</td>\n",
       "      <td>0.44</td>\n",
       "      <td>1.00</td>\n",
       "    </tr>\n",
       "  </tbody>\n",
       "</table>\n",
       "</div>"
      ],
      "text/plain": [
       "                  S & P  Bonds  Canadian  Japan  Emerging Markets  Pacific  \\\n",
       "S & P              1.00   0.45      0.70   0.20              0.64     0.30   \n",
       "Bonds              0.45   1.00      0.27  -0.01              0.41     0.01   \n",
       "Canadian           0.70   0.27      1.00   0.14              0.51     0.29   \n",
       "Japan              0.20  -0.01      0.14   1.00              0.25     0.73   \n",
       "Emerging Markets   0.64   0.41      0.51   0.25              1.00     0.28   \n",
       "Pacific            0.30   0.01      0.29   0.73              0.28     1.00   \n",
       "Europe             0.61   0.13      0.48   0.56              0.61     0.54   \n",
       "Small Stocks       0.79   0.28      0.59   0.13              0.75     0.16   \n",
       "\n",
       "                  Europe  Small Stocks  \n",
       "S & P               0.61          0.79  \n",
       "Bonds               0.13          0.28  \n",
       "Canadian            0.48          0.59  \n",
       "Japan               0.56          0.13  \n",
       "Emerging Markets    0.61          0.75  \n",
       "Pacific             0.54          0.16  \n",
       "Europe              1.00          0.44  \n",
       "Small Stocks        0.44          1.00  "
      ]
     },
     "execution_count": 253,
     "metadata": {},
     "output_type": "execute_result"
    }
   ],
   "source": [
    "n = len(assets)\n",
    "data = np.array([\n",
    "    [1,.45,.7,.2,.64,.3,.61,.79],\n",
    "    [.45,1,.27,-.01,.41,.01,.13,.28],\n",
    "    [.7,.27,1,.14,.51,.29,.48,.59],\n",
    "    [.2,-.01,.14,1,.25,.73,.56,.13],\n",
    "    [.64,.41,.51,.25,1,.28,.61,.75],\n",
    "    [.3,.01,.29,.73,.28,1,.54,.16],\n",
    "    [.61,.13,.48,.56,.61,.54,1,.44],\n",
    "    [.79,.28,.59,.13,.75,.16,.44,1]\n",
    "])\n",
    "cov = pd.DataFrame(data=data, columns=assets.Label.values, index=assets.Label.values)\n",
    "cov"
   ]
  },
  {
   "cell_type": "markdown",
   "metadata": {},
   "source": [
    "## Build problem data"
   ]
  },
  {
   "cell_type": "code",
   "execution_count": 254,
   "metadata": {},
   "outputs": [],
   "source": [
    "# vector of expected returns\n",
    "r = assets['Return (%)'].values/100\n",
    "\n",
    "# covariance matrix\n",
    "sigmas = np.diag(assets['STD (%)'].values)/100\n",
    "Q = sigmas @ cov.values @ sigmas\n",
    "\n",
    "# current positions\n",
    "x0 = assets['Position'].values\n",
    "\n",
    "# lower bounds\n",
    "xlo = assets['Lower'].values\n",
    "\n",
    "# Upper bounds\n",
    "xup = assets['Upper'].values"
   ]
  },
  {
   "cell_type": "code",
   "execution_count": 255,
   "metadata": {
    "collapsed": true
   },
   "outputs": [],
   "source": [
    "# cashflow\n",
    "cashflow = 1\n",
    "\n",
    "# expected return\n",
    "mu = 0.14\n",
    "\n",
    "# sell (set to False to prevent selling stocks)\n",
    "sell = True\n",
    "\n",
    "# buy (set to False to prevent buying stocks)\n",
    "buy = True\n",
    "\n",
    "# short (set to False to prevent short sales)\n",
    "short = True\n",
    "\n",
    "# options\n",
    "options = {\n",
    "    'sell': sell,\n",
    "    'buy': buy,\n",
    "    'short': short\n",
    "}"
   ]
  },
  {
   "cell_type": "markdown",
   "metadata": {},
   "source": [
    "## Submit problem to the api"
   ]
  },
  {
   "cell_type": "code",
   "execution_count": 256,
   "metadata": {},
   "outputs": [
    {
     "name": "stdout",
     "output_type": "stream",
     "text": [
      "> Got solution\n",
      "  * mu = 14.000%, std = 12.959% (optimal)\n",
      "  * solution = [0.2999999957278775, 0.7224496894771588, -0.11266759772470511, 0.16256566838119046, -0.22256789533440097, 0.6509573960548254, -0.2847773115484372, 0.7840400918349191]\n"
     ]
    }
   ],
   "source": [
    "# prepare data for submitting request to api\n",
    "\n",
    "data = {\n",
    "    'Q': Q.tolist(),\n",
    "    'r': r.tolist(),\n",
    "    'x0': x0.tolist(),\n",
    "    'xlo': xlo.tolist(),\n",
    "    'xup': xup.tolist(),\n",
    "    'mu': mu,\n",
    "    'cashflow': cashflow,\n",
    "    'options': options\n",
    "}\n",
    "\n",
    "resp = requests.post(base_url + 'portfolio',\n",
    "                     json=data,\n",
    "                     headers=headers)\n",
    "\n",
    "if resp.ok:\n",
    "\n",
    "    sol = resp.json()\n",
    "    print('> Got solution')\n",
    "    if sol['obj'] is not None:\n",
    "        print('  * mu = {:.3f}%, std = {:.3f}% ({})'.format(100*mu, 100*math.sqrt(sol['obj']), sol['status']))\n",
    "        print('  * solution = {}'.format(sol['x']))\n",
    "    else:\n",
    "        print('  * mu = {:.3f}%, std = --- ({})'.format(100*mu, sol['status']))\n",
    "else:\n",
    "\n",
    "    print(resp.json())\n",
    "    resp.raise_for_status()"
   ]
  },
  {
   "cell_type": "markdown",
   "metadata": {},
   "source": [
    "# Efficient Frontier"
   ]
  },
  {
   "cell_type": "markdown",
   "metadata": {},
   "source": [
    "## Setup"
   ]
  },
  {
   "cell_type": "code",
   "execution_count": 257,
   "metadata": {
    "collapsed": true
   },
   "outputs": [],
   "source": [
    "# cashflow\n",
    "cashflow = 1\n",
    "\n",
    "# sell (set to False to prevent selling stocks)\n",
    "sell = True\n",
    "\n",
    "# buy (set to False to prevent buying stocks)\n",
    "buy = True\n",
    "\n",
    "# short (set to False to prevent short sales)\n",
    "short = False\n",
    "\n",
    "# number of points on the frontier to calculate\n",
    "number_of_points = 30\n",
    "\n",
    "# options\n",
    "options = {\n",
    "    'sell': sell,\n",
    "    'buy': buy,\n",
    "    'short': short,\n",
    "    'number_of_points': number_of_points\n",
    "}"
   ]
  },
  {
   "cell_type": "markdown",
   "metadata": {},
   "source": [
    "## Submit problem to the api"
   ]
  },
  {
   "cell_type": "code",
   "execution_count": 258,
   "metadata": {},
   "outputs": [
    {
     "name": "stdout",
     "output_type": "stream",
     "text": [
      "> Got frontier\n",
      "  1. mu = 7.837%, std = 5.995% (optimal)\n",
      "  2. mu = 8.187%, std = 6.081% (optimal)\n",
      "  3. mu = 8.538%, std = 6.280% (optimal)\n",
      "  4. mu = 8.888%, std = 6.572% (optimal)\n",
      "  5. mu = 9.239%, std = 6.919% (optimal)\n",
      "  6. mu = 9.589%, std = 7.298% (optimal)\n",
      "  7. mu = 9.939%, std = 7.705% (optimal)\n",
      "  8. mu = 10.290%, std = 8.136% (optimal)\n",
      "  9. mu = 10.640%, std = 8.586% (optimal)\n",
      "  10. mu = 10.991%, std = 9.053% (optimal)\n",
      "  11. mu = 11.341%, std = 9.535% (optimal)\n",
      "  12. mu = 11.692%, std = 10.029% (optimal)\n",
      "  13. mu = 12.042%, std = 10.534% (optimal)\n",
      "  14. mu = 12.393%, std = 11.047% (optimal)\n",
      "  15. mu = 12.743%, std = 11.569% (optimal)\n",
      "  16. mu = 13.094%, std = 12.098% (optimal)\n",
      "  17. mu = 13.444%, std = 12.632% (optimal)\n",
      "  18. mu = 13.795%, std = 13.172% (optimal)\n",
      "  19. mu = 14.145%, std = 13.717% (optimal)\n",
      "  20. mu = 14.495%, std = 14.266% (optimal)\n",
      "  21. mu = 14.846%, std = 14.818% (optimal)\n",
      "  22. mu = 15.196%, std = 15.374% (optimal)\n",
      "  23. mu = 15.547%, std = 15.933% (optimal)\n",
      "  24. mu = 15.897%, std = 16.494% (optimal)\n",
      "  25. mu = 16.248%, std = 17.058% (optimal)\n",
      "  26. mu = 16.598%, std = 18.313% (optimal)\n",
      "  27. mu = 16.949%, std = --- (infeasible)\n",
      "  28. mu = 17.299%, std = --- (infeasible)\n",
      "  29. mu = 17.650%, std = --- (infeasible)\n",
      "  30. mu = 18.000%, std = --- (infeasible)\n"
     ]
    }
   ],
   "source": [
    "# prepare data for submitting request to api\n",
    "\n",
    "data = {\n",
    "    'Q': Q.tolist(),\n",
    "    'r': r.tolist(),\n",
    "    'x0': x0.tolist(),\n",
    "    'xlo': xlo.tolist(),\n",
    "    'xup': xup.tolist(),\n",
    "    'cashflow': cashflow,\n",
    "    'options': options\n",
    "}\n",
    "\n",
    "resp = requests.post(base_url + 'frontier',\n",
    "                     json=data,\n",
    "                     headers=headers)\n",
    "\n",
    "if resp.ok:\n",
    "\n",
    "    sol = resp.json()\n",
    "    print('> Got frontier')\n",
    "    m = len(sol['frontier'])\n",
    "    mu = np.zeros((m,))\n",
    "    variance = np.zeros((m,))\n",
    "    holdings = np.zeros((m, n))\n",
    "    for i, e in enumerate(sol['frontier']):\n",
    "        sol = e['sol']\n",
    "        mu[i] = e['mu']\n",
    "        variance[i] = sol['obj']\n",
    "        holdings[i, :] = sol['x']\n",
    "        if sol['obj'] is not None:\n",
    "            print('  {}. mu = {:.3f}%, std = {:.3f}% ({})'.format(i+1, 100*mu[i], 100*math.sqrt(sol['obj']), sol['status']))\n",
    "        else:\n",
    "            print('  {}. mu = {:.3f}%, std = --- ({})'.format(i+1, 100*mu[i], sol['status']))\n",
    "else:\n",
    "\n",
    "    print(resp.json())\n",
    "    resp.raise_for_status()"
   ]
  },
  {
   "cell_type": "markdown",
   "metadata": {},
   "source": [
    "## Plot frontier"
   ]
  },
  {
   "cell_type": "code",
   "execution_count": 259,
   "metadata": {
    "collapsed": true
   },
   "outputs": [],
   "source": [
    "rmax = np.max(r)\n",
    "rmin = np.min((np.min(r), np.min(mu)))\n",
    "dr = rmax - rmin\n",
    "colors = np.array(plt.rcParams['axes.prop_cycle'].by_key()['color'])"
   ]
  },
  {
   "cell_type": "code",
   "execution_count": 260,
   "metadata": {},
   "outputs": [
    {
     "data": {
      "image/png": "[encoded data removed]",
      "text/plain": [
       "<matplotlib.figure.Figure at 0x1821ed00f60>"
      ]
     },
     "metadata": {},
     "output_type": "display_data"
    }
   ],
   "source": [
    "# plot frontier\n",
    "xlim = (100*(rmin-0.1*dr), 100*(rmax+0.1*dr))\n",
    "\n",
    "for i, label in enumerate(assets['Label'].values): \n",
    "    plt.plot(100*np.sqrt(Q[i,i]), 100*r[i], 'x', color=colors[np.mod(i, len(colors))])\n",
    "plt.plot(100*np.sqrt(variance), 100*mu, 'k')\n",
    "plt.xlabel('std (%)')\n",
    "plt.ylabel('return (%)')\n",
    "plt.title('Efficient frontier')\n",
    "plt.ylim(xlim)\n",
    "plt.legend(assets['Label'].values)\n",
    "plt.grid()\n",
    "plt.show()"
   ]
  },
  {
   "cell_type": "markdown",
   "metadata": {
    "collapsed": true
   },
   "source": [
    "## Plot sells, buys, holdings"
   ]
  },
  {
   "cell_type": "code",
   "execution_count": 261,
   "metadata": {},
   "outputs": [
    {
     "data": {
      "image/png": "[encoded data removed]",
      "text/plain": [
       "<matplotlib.figure.Figure at 0x1821ef17eb8>"
      ]
     },
     "metadata": {},
     "output_type": "display_data"
    }
   ],
   "source": [
    "# plot frontier\n",
    "xlim = (100*(rmin-0.1*dr), 100*(rmax+0.1*dr))\n",
    "plt.figure(figsize=(10, 10))\n",
    "\n",
    "ax = plt.subplot(3, 1, 1)\n",
    "for i, label in enumerate(assets['Label'].values): \n",
    "    plt.plot(100*r[i], 100*np.sqrt(Q[i,i]), 'x', color=colors[np.mod(i, len(colors))])\n",
    "ax.plot(100*mu, 100*np.sqrt(variance), 'k')\n",
    "ax.set_ylabel('std (%)')\n",
    "ax.set_title('Efficient frontier')\n",
    "ax.set_xlim(xlim)\n",
    "ax.grid()\n",
    "\n",
    "ax = plt.subplot(3, 1, 2)\n",
    "ax.plot(100*mu, holdings)\n",
    "ax.set_ylabel('holdings')\n",
    "ax.set_title('Holdings')\n",
    "ax.set_xlim(xlim)\n",
    "ax.legend(assets['Label'].values)\n",
    "ax.grid()\n",
    "\n",
    "ax = plt.subplot(3, 1, 3)\n",
    "ax.plot(100*mu, holdings - x0)\n",
    "ax.set_xlabel('return (%)')\n",
    "ax.set_ylabel('movement')\n",
    "ax.set_title('Buy/Sell')\n",
    "ax.set_xlim(xlim)\n",
    "ax.grid()\n",
    "\n",
    "plt.subplots_adjust(hspace=.4)\n",
    "plt.show()"
   ]
  },
  {
   "cell_type": "code",
   "execution_count": null,
   "metadata": {
    "collapsed": true
   },
   "outputs": [],
   "source": []
  }
 ],
 "metadata": {
  "kernelspec": {
   "display_name": "Python 3",
   "language": "python",
   "name": "python3"
  },
  "language_info": {
   "codemirror_mode": {
    "name": "ipython",
    "version": 3
   },
   "file_extension": ".py",
   "mimetype": "text/x-python",
   "name": "python",
   "nbconvert_exporter": "python",
   "pygments_lexer": "ipython3",
   "version": "3.6.3"
  }
 },
 "nbformat": 4,
 "nbformat_minor": 1
}
